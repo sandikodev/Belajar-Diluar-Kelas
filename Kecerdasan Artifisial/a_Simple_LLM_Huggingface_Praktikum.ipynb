{
  "cells": [
    {
      "cell_type": "markdown",
      "metadata": {
        "id": "view-in-github",
        "colab_type": "text"
      },
      "source": [
        "<a href=\"https://colab.research.google.com/github/sandikodev/Belajar-Diluar-Kelas/blob/main/Kecerdasan%20Artifisial/a_Simple_LLM_Huggingface_Praktikum.ipynb\" target=\"_parent\"><img src=\"https://colab.research.google.com/assets/colab-badge.svg\" alt=\"Open In Colab\"/></a>"
      ]
    },
    {
      "cell_type": "code",
      "source": [
        "# Praktikum Langkah 1\n",
        "# > `pip install` diikuti dengan nama-nama library yang ingin pasang\n",
        "\n",
        "!pip install transformers accelerate bitsandbytes sentencepiece"
      ],
      "metadata": {
        "id": "RkuvMnWdLyR-"
      },
      "execution_count": null,
      "outputs": []
    },
    {
      "cell_type": "code",
      "source": [
        "# Praktikum Langkah 2\n",
        "# > memuat tokenizer dan model yang ingin digunakan\n",
        "\n",
        "from transformers import AutoModelForCausalLM, AutoTokenizer\n",
        "import torch\n",
        "\n",
        "# Pilih model\n",
        "model_name = \"distilgpt2\"\n",
        "\n",
        "# Load tokenizer & model\n",
        "tokenizer = AutoTokenizer.from_pretrained(model_name)\n",
        "model = AutoModelForCausalLM.from_pretrained(\n",
        "    model_name,\n",
        "    device_map=\"auto\",   # otomatis ke GPU kalau ada\n",
        "    torch_dtype=torch.float16 if torch.cuda.is_available() else torch.float32,\n",
        ")"
      ],
      "metadata": {
        "id": "PmatlnwxodaI"
      },
      "execution_count": null,
      "outputs": []
    },
    {
      "cell_type": "code",
      "source": [
        "# Praktikum Langkah 3\n",
        "# > cek apakah model sudah benar-benar terunduh dari huggingface\n",
        "# > bayangkan huggingface ini seperti github nya programmer,\n",
        "# > atau bisa juga diibaratkan seperti appstore-playstore nya pengguna aplikasi mobile\n",
        "\n",
        "from huggingface_hub import hf_hub_download\n",
        "\n",
        "path = hf_hub_download(repo_id=model_name, filename=\"config.json\")\n",
        "print(\"Model diunduh di:\", path)"
      ],
      "metadata": {
        "colab": {
          "base_uri": "https://localhost:8080/"
        },
        "id": "rIAYzQuMsolE",
        "outputId": "1e431128-fed9-4e15-d36d-62b32aef23f9"
      },
      "execution_count": null,
      "outputs": [
        {
          "output_type": "stream",
          "name": "stdout",
          "text": [
            "Model diunduh di: /root/.cache/huggingface/hub/models--google--flan-t5-small/snapshots/0fc9ddf78a1e988dac52e2dac162b0ede4fd74ab/config.json\n"
          ]
        }
      ]
    },
    {
      "cell_type": "code",
      "source": [
        "# Praktikum Langkah 4\n",
        "# > mulai membuat prompt sederhana, memasukan kedalam tokenizer sebagai input yang nanti akan di proses oleh model\n",
        "# > setelah proses oleh model berhasil akan disimpan sebagai output dan didecode kembali oleh tokenizer\n",
        "\n",
        "prompt = \"Hari ini saya belajar tentang komputer. Komputer terdiri dari\"\n",
        "inputs = tokenizer(prompt, return_tensors=\"pt\").to(model.device)\n",
        "\n",
        "outputs = model.generate(\n",
        "    **inputs,\n",
        "    max_new_tokens=100,\n",
        "    do_sample=True,\n",
        "    top_k=50,\n",
        "    top_p=0.95,\n",
        "    temperature=0.7,\n",
        ")\n",
        "\n",
        "print(tokenizer.decode(outputs[0], skip_special_tokens=True))\n"
      ],
      "metadata": {
        "colab": {
          "base_uri": "https://localhost:8080/"
        },
        "id": "r96Z1OSZog3l",
        "outputId": "90c365a3-9cf8-4859-9cae-bb2ea3d04fb3"
      },
      "execution_count": null,
      "outputs": [
        {
          "output_type": "stream",
          "name": "stderr",
          "text": [
            "Setting `pad_token_id` to `eos_token_id`:50256 for open-end generation.\n"
          ]
        },
        {
          "output_type": "stream",
          "name": "stdout",
          "text": [
            "Hari ini saya belajar tentang komputer. Komputer terdiri dari komputer komputer komputer komputer komputer komputer komputer komputer komputer komputer komputer komputer komputer komputer komputer komputer komputer komputer komputer komputer komputer komputer komputer komputer komputer komputer komputer komputer komputer komputer komputer komputer komputer k\n"
          ]
        }
      ]
    }
  ],
  "metadata": {
    "colab": {
      "provenance": [],
      "authorship_tag": "ABX9TyOLNWUcxe33qqzGFNoo62J2",
      "include_colab_link": true
    },
    "kernelspec": {
      "display_name": "Python 3",
      "name": "python3"
    },
    "language_info": {
      "name": "python"
    }
  },
  "nbformat": 4,
  "nbformat_minor": 0
}